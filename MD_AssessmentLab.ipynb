{
  "metadata": {
    "kernelspec": {
      "name": "python",
      "display_name": "Python (Pyodide)",
      "language": "python"
    },
    "language_info": {
      "codemirror_mode": {
        "name": "python",
        "version": 3
      },
      "file_extension": ".py",
      "mimetype": "text/x-python",
      "name": "python",
      "nbconvert_exporter": "python",
      "pygments_lexer": "ipython3",
      "version": "3.8"
    }
  },
  "nbformat_minor": 4,
  "nbformat": 4,
  "cells": [
    {
      "cell_type": "markdown",
      "source": "<center>\n    <img src=\"https://cf-courses-data.s3.us.cloud-object-storage.appdomain.cloud/IBMDeveloperSkillsNetwork-DS0105EN-SkillsNetwork/labs/Module2/images/SN_web_lightmode.png\" width=\"300\" alt=\"cognitiveclass.ai logo\"  />\n</center>\n",
      "metadata": {}
    },
    {
      "cell_type": "markdown",
      "source": "#### Add your code below following the instructions given in the course\n",
      "metadata": {}
    },
    {
      "cell_type": "markdown",
      "source": "# My Jupyter Notebook on IBM Watson Studio",
      "metadata": {}
    },
    {
      "cell_type": "markdown",
      "source": "**DROMIN MICHAEL**  \nSales Manager",
      "metadata": {}
    },
    {
      "cell_type": "markdown",
      "source": "*I am interested in data science because since I started working in Sales in Consumer Electronics a lot of changes happened,  \nplenty of data accumulated, many tools and methods came up and enabled to approach Sales in data-driven way rather than intuitively.  \nSo it is a time to systemize my knowledge in Business Analytics and enhance my sales skills with new technology.*",
      "metadata": {}
    },
    {
      "cell_type": "markdown",
      "source": "### My code is going to output some math operations",
      "metadata": {}
    },
    {
      "cell_type": "code",
      "source": "import math\nnum = 169\nsqrt = math.sqrt(num)\nprint(\"The square root of a number \" + str(num) + \" is \" + str(sqrt))\n",
      "metadata": {
        "trusted": true
      },
      "execution_count": 11,
      "outputs": [
        {
          "name": "stdout",
          "text": "The square root of a number 169 is 13.0\n",
          "output_type": "stream"
        }
      ]
    },
    {
      "cell_type": "markdown",
      "source": "Using Markdown or HTML, this cell must include at least 3 of the following:\nhorizontal rule,  \nbulleted list,  \nnumbered list,  \ntables, hyperlinks, images, code/syntax highlighting, blocked quotes, strikethrough.",
      "metadata": {}
    },
    {
      "cell_type": "markdown",
      "source": "### Bulleted list",
      "metadata": {}
    },
    {
      "cell_type": "markdown",
      "source": "- first bullet point\n- second bullet point\n- third bullet point",
      "metadata": {}
    },
    {
      "cell_type": "markdown",
      "source": "### Blockquote",
      "metadata": {}
    },
    {
      "cell_type": "markdown",
      "source": "> Ecstasy is a glass full of tea and a piece of sugar in the mouth.\n>\n>*Alexander Pushkin*",
      "metadata": {}
    },
    {
      "cell_type": "markdown",
      "source": "### Table",
      "metadata": {}
    },
    {
      "cell_type": "markdown",
      "source": "|Nom|Product|Qty|Price|  \n|---|-------|---|-----|  \n|  1|display| 25| 1500|  \n|  2|server | 2 |12399|  \n",
      "metadata": {
        "jp-MarkdownHeadingCollapsed": true,
        "tags": []
      }
    },
    {
      "cell_type": "code",
      "source": "",
      "metadata": {},
      "execution_count": null,
      "outputs": []
    }
  ]
}